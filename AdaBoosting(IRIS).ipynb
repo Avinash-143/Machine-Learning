{
 "cells": [
  {
   "cell_type": "code",
   "execution_count": 1,
   "id": "7519087b-f459-40be-a4d2-9af95e8eff01",
   "metadata": {},
   "outputs": [],
   "source": [
    "import pandas as np\n",
    "import numpy as np"
   ]
  },
  {
   "cell_type": "code",
   "execution_count": 2,
   "id": "aaf02c52-238a-45f1-a5a7-1c2ad7bb5929",
   "metadata": {},
   "outputs": [],
   "source": [
    "from sklearn import datasets\n",
    "from sklearn.model_selection import train_test_split\n",
    "from sklearn.preprocessing import StandardScaler\n",
    "\n",
    "#load iris dataset\n",
    "iris=datasets.load_iris()\n",
    "x=iris.data\n",
    "y=iris.target\n",
    "\n",
    "#split data into train and test sets\n",
    "X_train,X_test,y_train,y_test = train_test_split(x,y,test_size=0.2,random_state=40)"
   ]
  },
  {
   "cell_type": "code",
   "execution_count": 3,
   "id": "e5fe17ac-7ffc-4909-89cf-e57a3c1dd6eb",
   "metadata": {},
   "outputs": [],
   "source": [
    "from sklearn.ensemble import GradientBoostingClassifier\n",
    "from sklearn.metrics import accuracy_score, confusion_matrix, classification_report"
   ]
  },
  {
   "cell_type": "code",
   "execution_count": 4,
   "id": "c3ba4689-6153-4dcb-ac69-2554e65d8987",
   "metadata": {},
   "outputs": [],
   "source": [
    "model = GradientBoostingClassifier(\n",
    "    loss='log_loss',                 # Loss function to be optimized (default 'deviance', options: 'deviance', 'exponential')\n",
    "    learning_rate=0.1,               # Learning rate shrinks the contribution of each tree (default 0.1)\n",
    "    n_estimators=100,                # The number of boosting stages to be run (default 100)\n",
    "    subsample=1.0,                   # The fraction of samples to be used for fitting the individual base learners (default 1.0)\n",
    "    criterion='friedman_mse',        # The function to measure the quality of a split (default 'friedman_mse', options: 'friedman_mse', 'mse', 'mae')\n",
    "    min_samples_split=2,             # The minimum number of samples required to split an internal node (default 2)\n",
    "    min_samples_leaf=1,              # The minimum number of samples required to be at a leaf node (default 1)\n",
    "    min_weight_fraction_leaf=0.0,    # The minimum weighted fraction of the sum total of weights required to be at a leaf node (default 0.0)\n",
    "    max_depth=3,                     # The maximum depth of the individual base learners (default 3)\n",
    "    min_impurity_decrease=0.0,       # A node will be split if this split induces a decrease of the impurity greater than or equal to this value (default 0.0)\n",
    "    init=None,                       # An estimator object that is used to compute the initial predictions (default None)\n",
    "    random_state=None,               # Controls the randomness of the estimator (default None)\n",
    "    max_features=None,               # The number of features to consider when looking for the best split (default None)\n",
    "    verbose=0,                       # The verbosity level (default 0)\n",
    "    max_leaf_nodes=None,             # Grow trees with max_leaf_nodes in best-first fashion (default None)\n",
    "    warm_start=False,                # When set to True, reuse the solution of the previous call to fit and add more estimators to the ensemble (default False)\n",
    "    validation_fraction=0.1,         # The proportion of training data to set aside as validation set for early stopping (default 0.1)\n",
    "    n_iter_no_change=None,           # Used to decide if early stopping will be used to terminate training when validation score is not improving (default None)\n",
    "    tol=1e-4,                        # Tolerance for early stopping (default 1e-4)\n",
    "    ccp_alpha=0.0                    # Complexity parameter used for Minimal Cost-Complexity Pruning (default 0.0)\n",
    ")"
   ]
  },
  {
   "cell_type": "code",
   "execution_count": 5,
   "id": "25911b48-d502-419a-8440-78c6f4d8feb7",
   "metadata": {},
   "outputs": [],
   "source": [
    "model.fit(X_train,y_train)\n",
    "y_pred=model.predict(X_test)\n"
   ]
  },
  {
   "cell_type": "code",
   "execution_count": 6,
   "id": "cd93ce5a-a6a7-4cf3-84db-bfbd94ab2aad",
   "metadata": {},
   "outputs": [],
   "source": [
    "accuracy = accuracy_score(y_test, y_pred)\n",
    "conf_matrix = confusion_matrix(y_test, y_pred)\n",
    "class_report = classification_report(y_test, y_pred)"
   ]
  },
  {
   "cell_type": "code",
   "execution_count": 7,
   "id": "23532766-e53d-44b8-b58b-eafc8c531e6c",
   "metadata": {},
   "outputs": [
    {
     "name": "stdout",
     "output_type": "stream",
     "text": [
      "Accuracy: 1.0\n",
      "Confusion Matrix:\n",
      "[[ 8  0  0]\n",
      " [ 0 12  0]\n",
      " [ 0  0 10]]\n",
      "Classification Report:\n",
      "              precision    recall  f1-score   support\n",
      "\n",
      "           0       1.00      1.00      1.00         8\n",
      "           1       1.00      1.00      1.00        12\n",
      "           2       1.00      1.00      1.00        10\n",
      "\n",
      "    accuracy                           1.00        30\n",
      "   macro avg       1.00      1.00      1.00        30\n",
      "weighted avg       1.00      1.00      1.00        30\n",
      "\n"
     ]
    }
   ],
   "source": [
    "print(f'Accuracy: {accuracy}')\n",
    "print('Confusion Matrix:')\n",
    "print(conf_matrix)\n",
    "print('Classification Report:')\n",
    "print(class_report)"
   ]
  },
  {
   "cell_type": "code",
   "execution_count": null,
   "id": "4b1ed9d1-75e2-41a8-8d21-21f5c67f08ae",
   "metadata": {},
   "outputs": [],
   "source": []
  }
 ],
 "metadata": {
  "kernelspec": {
   "display_name": "Python 3 (ipykernel)",
   "language": "python",
   "name": "python3"
  },
  "language_info": {
   "codemirror_mode": {
    "name": "ipython",
    "version": 3
   },
   "file_extension": ".py",
   "mimetype": "text/x-python",
   "name": "python",
   "nbconvert_exporter": "python",
   "pygments_lexer": "ipython3",
   "version": "3.12.4"
  }
 },
 "nbformat": 4,
 "nbformat_minor": 5
}
